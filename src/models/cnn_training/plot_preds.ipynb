{
 "cells": [
  {
   "cell_type": "code",
   "execution_count": 1,
   "metadata": {},
   "outputs": [],
   "source": [
    "import pandas as pd \n",
    "import numpy as np\n",
    "import matplotlib.pyplot as plt\n",
    "from sklearn.metrics import r2_score, confusion_matrix, classification_report\n",
    "from scipy.stats import spearmanr\n",
    "%matplotlib inline"
   ]
  },
  {
   "cell_type": "code",
   "execution_count": 17,
   "metadata": {},
   "outputs": [],
   "source": [
    "preds = pd.read_csv(\"/work/users/l/s/lswhiteh/SeqOrSwim/src/models/demo_n512_1c_2dcnn_log_4blocks/demo_n512_1c_2dcnn_log_4blocks_preds.csv\")\n",
    "names = [\"N0\", \"t1\", \"N1\", \"t2\", \"N2\"]\n"
   ]
  },
  {
   "cell_type": "code",
   "execution_count": null,
   "metadata": {},
   "outputs": [],
   "source": [
    "for idx, name in enumerate(names):\n",
    "    plt.scatter(preds[f\"true_{name}\"], preds[f\"pred_{name}\"])\n",
    "    m, b = np.polyfit(preds[f\"true_{name}\"], preds[f\"pred_{name}\"], 1)\n",
    "    plt.plot(preds[f\"pred_{name}\"], m*preds[f\"pred_{name}\"]+b, color=\"black\", label=f'''Spearmans rho: {spearmanr(preds[f\"true_{name}\"], preds[f\"pred_{name}\"])[0]:.2f}, \n",
    "             p-value: {spearmanr(preds[f\"true_{name}\"], preds[f\"pred_{name}\"])[1]:.2f}''')\n",
    "    plt.legend()\n",
    "    plt.plot()\n",
    "    plt.title(name)\n",
    "    plt.ylabel(\"True\")\n",
    "    plt.xlabel(\"Pred\")\n",
    "    plt.tight_layout()\n",
    "    plt.show()"
   ]
  },
  {
   "cell_type": "code",
   "execution_count": 7,
   "metadata": {},
   "outputs": [
    {
     "data": {
      "text/html": [
       "<div>\n",
       "<style scoped>\n",
       "    .dataframe tbody tr th:only-of-type {\n",
       "        vertical-align: middle;\n",
       "    }\n",
       "\n",
       "    .dataframe tbody tr th {\n",
       "        vertical-align: top;\n",
       "    }\n",
       "\n",
       "    .dataframe thead th {\n",
       "        text-align: right;\n",
       "    }\n",
       "</style>\n",
       "<table border=\"1\" class=\"dataframe\">\n",
       "  <thead>\n",
       "    <tr style=\"text-align: right;\">\n",
       "      <th></th>\n",
       "      <th>true</th>\n",
       "      <th>pred</th>\n",
       "    </tr>\n",
       "  </thead>\n",
       "  <tbody>\n",
       "    <tr>\n",
       "      <th>0</th>\n",
       "      <td>ab</td>\n",
       "      <td>ab</td>\n",
       "    </tr>\n",
       "    <tr>\n",
       "      <th>1</th>\n",
       "      <td>ab</td>\n",
       "      <td>ab</td>\n",
       "    </tr>\n",
       "    <tr>\n",
       "      <th>2</th>\n",
       "      <td>ab</td>\n",
       "      <td>ab</td>\n",
       "    </tr>\n",
       "    <tr>\n",
       "      <th>3</th>\n",
       "      <td>ab</td>\n",
       "      <td>ab</td>\n",
       "    </tr>\n",
       "    <tr>\n",
       "      <th>4</th>\n",
       "      <td>ba</td>\n",
       "      <td>ba</td>\n",
       "    </tr>\n",
       "  </tbody>\n",
       "</table>\n",
       "</div>"
      ],
      "text/plain": [
       "  true pred\n",
       "0   ab   ab\n",
       "1   ab   ab\n",
       "2   ab   ab\n",
       "3   ab   ab\n",
       "4   ba   ba"
      ]
     },
     "execution_count": 7,
     "metadata": {},
     "output_type": "execute_result"
    }
   ],
   "source": [
    "intro_df = pd.read_csv(\"1dcnn_results.csv\", sep=\"\\t\")\n",
    "intro_df.head()"
   ]
  },
  {
   "cell_type": "code",
   "execution_count": 8,
   "metadata": {},
   "outputs": [
    {
     "name": "stdout",
     "output_type": "stream",
     "text": [
      "              precision    recall  f1-score   support\n",
      "\n",
      "          ab       0.93      0.76      0.84     42880\n",
      "          ba       1.00      0.97      0.98     42880\n",
      "        none       0.79      0.96      0.87     42880\n",
      "\n",
      "    accuracy                           0.90    128640\n",
      "   macro avg       0.90      0.90      0.89    128640\n",
      "weighted avg       0.90      0.90      0.89    128640\n",
      "\n"
     ]
    }
   ],
   "source": [
    "print(classification_report(intro_df[\"true\"], intro_df[\"pred\"]))"
   ]
  }
 ],
 "metadata": {
  "kernelspec": {
   "display_name": "ss-keras",
   "language": "python",
   "name": "python3"
  },
  "language_info": {
   "codemirror_mode": {
    "name": "ipython",
    "version": 3
   },
   "file_extension": ".py",
   "mimetype": "text/x-python",
   "name": "python",
   "nbconvert_exporter": "python",
   "pygments_lexer": "ipython3",
   "version": "3.10.8"
  },
  "orig_nbformat": 4
 },
 "nbformat": 4,
 "nbformat_minor": 2
}
