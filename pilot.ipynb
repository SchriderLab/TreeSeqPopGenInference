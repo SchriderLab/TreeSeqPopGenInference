{
 "cells": [
  {
   "cell_type": "code",
   "execution_count": 1,
   "metadata": {},
   "outputs": [],
   "source": [
    "import msprime"
   ]
  },
  {
   "cell_type": "code",
   "execution_count": 2,
   "metadata": {},
   "outputs": [],
   "source": [
    "L=1e8 \n",
    "N=10000\n",
    "\n",
    "#Neut\n",
    "ts_neut = msprime.sim_ancestry(1000, recombination_rate=1e-8, sequence_length=L, ploidy=1, population_size=N)\n",
    "mts_neut = msprime.sim_mutations(ts_neut, rate=1e-8)\n",
    "\n",
    "#Hard sweep\n",
    "sweep_model = msprime.SweepGenicSelection(\n",
    "    position=L / 2,  # beneficial mutation location: middle of chrom\n",
    "    start_frequency=1.0 / (2 * N), # starting frequency of the sweeping mutation\n",
    "    end_frequency=0.9, # final frequency of the mutation (incomplete sweep)\n",
    "    s=0.25, # selection coefficient of the beneficial mutation\n",
    "    dt=1e-6, # nevermind this!\n",
    ")\n",
    "\n",
    "ts_sweep = msprime.sim_ancestry(\n",
    "    1000,\n",
    "    model=[sweep_model, msprime.StandardCoalescent()],\n",
    "    population_size=N,\n",
    "    recombination_rate=1e-8,\n",
    "    sequence_length=L,\n",
    "    ploidy=1,\n",
    ")\n",
    "\n",
    "mts_sweep = msprime.sim_mutations(ts_sweep, rate=1e-8)"
   ]
  },
  {
   "cell_type": "code",
   "execution_count": null,
   "metadata": {},
   "outputs": [],
   "source": [
    "neut_covars_trip = []\n",
    "for idx in mts_neut.aslist:\n",
    "    if idx + 3 - len(mts_neut.num_trees):\n",
    "        "
   ]
  }
 ],
 "metadata": {
  "interpreter": {
   "hash": "5aa5d9036d79bd394b5f7acf165637759ca1c21ce158516ed05bfccc1f22f15b"
  },
  "kernelspec": {
   "display_name": "Python 3.10.4 ('treeseqs')",
   "language": "python",
   "name": "python3"
  },
  "language_info": {
   "codemirror_mode": {
    "name": "ipython",
    "version": 3
   },
   "file_extension": ".py",
   "mimetype": "text/x-python",
   "name": "python",
   "nbconvert_exporter": "python",
   "pygments_lexer": "ipython3",
   "version": "3.10.4"
  },
  "orig_nbformat": 4
 },
 "nbformat": 4,
 "nbformat_minor": 2
}
