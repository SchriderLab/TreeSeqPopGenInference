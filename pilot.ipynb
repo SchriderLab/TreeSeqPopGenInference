{
 "cells": [
  {
   "cell_type": "code",
   "execution_count": 38,
   "metadata": {},
   "outputs": [],
   "source": [
    "import msprime\n",
    "from IPython.display import SVG\n",
    "import dendropy\n",
    "from dendropy.calculate.treecompare import symmetric_difference\n",
    "import numpy as np\n",
    "import pandas as pd\n",
    "import matplotlib.pyplot as plt"
   ]
  },
  {
   "cell_type": "code",
   "execution_count": 9,
   "metadata": {},
   "outputs": [
    {
     "name": "stdout",
     "output_type": "stream",
     "text": [
      "Done with neuts\n",
      "Done with sweeps\n"
     ]
    }
   ],
   "source": [
    "#Simulate\n",
    "L=1e8 \n",
    "N=10000\n",
    "\n",
    "#Neut\n",
    "ts_neut = msprime.sim_ancestry(1000, recombination_rate=1e-8, sequence_length=L, ploidy=1, population_size=N)\n",
    "mts_neut = msprime.sim_mutations(ts_neut, rate=1e-8)\n",
    "print(\"Done with neuts\")\n",
    "\n",
    "#Hard sweep\n",
    "sweep_model = msprime.SweepGenicSelection(\n",
    "    position=L / 2,  # beneficial mutation location: middle of chrom\n",
    "    start_frequency=1.0 / (2 * N), # starting frequency of the sweeping mutation\n",
    "    end_frequency=0.99, # final frequency of the mutation (incomplete sweep)\n",
    "    s=0.25, # selection coefficient of the beneficial mutation\n",
    "    dt=1e-6, # nevermind this!\n",
    ")\n",
    "\n",
    "ts_sweep = msprime.sim_ancestry(\n",
    "    1000,\n",
    "    model=[sweep_model, msprime.StandardCoalescent()],\n",
    "    population_size=N,\n",
    "    recombination_rate=1e-8,\n",
    "    sequence_length=L,\n",
    "    ploidy=1,\n",
    ")\n",
    "\n",
    "mts_sweep = msprime.sim_mutations(ts_sweep, rate=1e-8)\n",
    "print(\"Done with sweeps\")"
   ]
  },
  {
   "cell_type": "code",
   "execution_count": 10,
   "metadata": {},
   "outputs": [
    {
     "data": {
      "image/svg+xml": "<svg xmlns=\"http://www.w3.org/2000/svg\" xmlns:ev=\"http://www.w3.org/2001/xml-events\" xmlns:xlink=\"http://www.w3.org/1999/xlink\" baseProfile=\"full\" height=\"200\" version=\"1.1\" width=\"600\"><defs><style type=\"text/css\"><![CDATA[.background path {fill: #808080; fill-opacity: 0}.background path:nth-child(odd) {fill-opacity: .1}.axes {font-size: 14px}.x-axis .tick .lab {font-weight: bold; dominant-baseline: hanging}.axes, .tree {font-size: 14px; text-anchor: middle}.axes line, .edge {stroke: black; fill: none}.y-axis .grid {stroke: #FAFAFA}.node > .sym {fill: black; stroke: none}.site > .sym {stroke: black}.mut text {fill: red; font-style: italic}.mut.extra text {fill: hotpink}.mut line {fill: none; stroke: none}.mut .sym {fill: none; stroke: red}.mut.extra .sym {stroke: hotpink}.node .mut .sym {stroke-width: 1.5px}.tree text, .tree-sequence text {dominant-baseline: central}.plotbox .lab.lft {text-anchor: end}.plotbox .lab.rgt {text-anchor: start}]]></style></defs><g class=\"tree-sequence\"><g class=\"background\"><path d=\"M20,0 l186.667,0 l0,138.2 l-90.2347,25 l0,5 l-96.432,0 l0,-5 l0,-25 l0,-138.2z\"/><path d=\"M206.667,0 l186.667,0 l0,138.2 l-112.821,25 l0,5 l-164.08,0 l0,-5 l90.2347,-25 l0,-138.2z\"/><path d=\"M393.333,0 l186.667,0 l0,138.2 l0,25 l0,5 l-299.488,0 l0,-5 l112.821,-25 l0,-138.2z\"/></g><g class=\"axes\"><g class=\"x-axis\"><g transform=\"translate(300 200)\"><text class=\"lab\" text-anchor=\"middle\" transform=\"translate(0 -11)\">Genome position</text></g><line x1=\"20\" x2=\"580\" y1=\"163.2\" y2=\"163.2\"/><g class=\"ticks\"><g class=\"tick\" transform=\"translate(20 163.2)\"><line x1=\"0\" x2=\"0\" y1=\"0\" y2=\"5\"/><g transform=\"translate(0 6)\"><text class=\"lab\">0</text></g></g><g class=\"tick\" transform=\"translate(116.432 163.2)\"><line x1=\"0\" x2=\"0\" y1=\"0\" y2=\"5\"/><g transform=\"translate(0 6)\"><text class=\"lab\">861</text></g></g><g class=\"tick\" transform=\"translate(280.512 163.2)\"><line x1=\"0\" x2=\"0\" y1=\"0\" y2=\"5\"/><g transform=\"translate(0 6)\"><text class=\"lab\">2326</text></g></g></g><g class=\"site s0\" transform=\"translate(145.104 163.2)\"><line class=\"sym\" x1=\"0\" x2=\"0\" y1=\"0\" y2=\"-10\"/><g class=\"mut m0\"><polyline class=\"sym\" points=\"2.5,-6.5 0,-1.5 -2.5,-6.5\"/></g></g><g class=\"site s1\" transform=\"translate(232.464 163.2)\"><line class=\"sym\" x1=\"0\" x2=\"0\" y1=\"0\" y2=\"-10\"/><g class=\"mut m1\"><polyline class=\"sym\" points=\"2.5,-6.5 0,-1.5 -2.5,-6.5\"/></g></g><g class=\"site s2\" transform=\"translate(337.52 163.2)\"><line class=\"sym\" x1=\"0\" x2=\"0\" y1=\"0\" y2=\"-10\"/><g class=\"mut m2\"><polyline class=\"sym\" points=\"2.5,-6.5 0,-1.5 -2.5,-6.5\"/></g></g><g class=\"site s3\" transform=\"translate(536.432 163.2)\"><line class=\"sym\" x1=\"0\" x2=\"0\" y1=\"0\" y2=\"-10\"/><g class=\"mut m3\"><polyline class=\"sym\" points=\"2.5,-6.5 0,-1.5 -2.5,-6.5\"/></g></g></g></g><g class=\"plotbox trees\"><g class=\"tree t-1\" transform=\"translate(20 0)\"><g class=\"plotbox\"><g class=\"c2 node n13036 p0 root\" transform=\"translate(99.2917 35.4)\"><g class=\"a13036 c2 node n10508 p0\" transform=\"translate(-38.0417 17.2)\"><g class=\"a10508 c2 node n5070 p0\" transform=\"translate(-26.5833 34.4)\"><g class=\"a5070 i0 leaf node n0 p0 sample\" transform=\"translate(-7.33333 34.4)\"><path class=\"edge\" d=\"M 0 0 V -34.4 H 7.33333\"/><rect class=\"sym\" height=\"6\" width=\"6\" x=\"-3\" y=\"-3\"/><text class=\"lab\" transform=\"translate(0 11)\">0</text></g><g class=\"a5070 i9 leaf node n9 p0 sample\" transform=\"translate(7.33333 34.4)\"><path class=\"edge\" d=\"M 0 0 V -34.4 H -7.33333\"/><rect class=\"sym\" height=\"6\" width=\"6\" x=\"-3\" y=\"-3\"/><text class=\"lab\" transform=\"translate(0 11)\">9</text></g><path class=\"edge\" d=\"M 0 0 V -34.4 H 26.5833\"/><circle class=\"sym\" cx=\"0\" cy=\"0\" r=\"3\"/><text class=\"lab lft\" transform=\"translate(-3 -7.0)\">5070</text></g><g class=\"a10508 c2 node n9984 p0\" transform=\"translate(26.5833 8.6)\"><g class=\"a9984 i8 leaf node n8 p0 sample\" transform=\"translate(12.8333 60.2)\"><path class=\"edge\" d=\"M 0 0 V -60.2 H -12.8333\"/><rect class=\"sym\" height=\"6\" width=\"6\" x=\"-3\" y=\"-3\"/><text class=\"lab\" transform=\"translate(0 11)\">8</text></g><g class=\"a9984 c2 node n2205 p0\" transform=\"translate(-12.8333 34.4)\"><g class=\"a2205 i4 leaf node n4 p0 sample\" transform=\"translate(11 25.8)\"><path class=\"edge\" d=\"M 0 0 V -25.8 H -11\"/><rect class=\"sym\" height=\"6\" width=\"6\" x=\"-3\" y=\"-3\"/><text class=\"lab\" transform=\"translate(0 11)\">4</text></g><g class=\"a2205 c2 node n1411 p0\" transform=\"translate(-11 8.6)\"><g class=\"a1411 i3 leaf node n3 p0 sample\" transform=\"translate(-7.33333 17.2)\"><path class=\"edge\" d=\"M 0 0 V -17.2 H 7.33333\"/><rect class=\"sym\" height=\"6\" width=\"6\" x=\"-3\" y=\"-3\"/><text class=\"lab\" transform=\"translate(0 11)\">3</text></g><g class=\"a1411 i6 leaf node n6 p0 sample\" transform=\"translate(7.33333 17.2)\"><path class=\"edge\" d=\"M 0 0 V -17.2 H -7.33333\"/><rect class=\"sym\" height=\"6\" width=\"6\" x=\"-3\" y=\"-3\"/><text class=\"lab\" transform=\"translate(0 11)\">6</text></g><path class=\"edge\" d=\"M 0 0 V -8.6 H 11\"/><circle class=\"sym\" cx=\"0\" cy=\"0\" r=\"3\"/><text class=\"lab lft\" transform=\"translate(-3 -7.0)\">1411</text></g><path class=\"edge\" d=\"M 0 0 V -34.4 H 12.8333\"/><circle class=\"sym\" cx=\"0\" cy=\"0\" r=\"3\"/><text class=\"lab lft\" transform=\"translate(-3 -7.0)\">2205</text></g><path class=\"edge\" d=\"M 0 0 V -8.6 H -26.5833\"/><circle class=\"sym\" cx=\"0\" cy=\"0\" r=\"3\"/><text class=\"lab rgt\" transform=\"translate(3 -7.0)\">9984</text></g><path class=\"edge\" d=\"M 0 0 V -17.2 H 38.0417\"/><circle class=\"sym\" cx=\"0\" cy=\"0\" r=\"3\"/><text class=\"lab lft\" transform=\"translate(-3 -7.0)\">10508</text></g><g class=\"a13036 c2 node n12859 p0\" transform=\"translate(38.0417 8.6)\"><g class=\"a12859 c2 node n1312 p0\" transform=\"translate(14.6667 68.8)\"><g class=\"a1312 i5 leaf node n5 p0 sample\" transform=\"translate(-7.33333 8.6)\"><path class=\"edge\" d=\"M 0 0 V -8.6 H 7.33333\"/><rect class=\"sym\" height=\"6\" width=\"6\" x=\"-3\" y=\"-3\"/><text class=\"lab\" transform=\"translate(0 11)\">5</text></g><g class=\"a1312 i7 leaf node n7 p0 sample\" transform=\"translate(7.33333 8.6)\"><path class=\"edge\" d=\"M 0 0 V -8.6 H -7.33333\"/><rect class=\"sym\" height=\"6\" width=\"6\" x=\"-3\" y=\"-3\"/><text class=\"lab\" transform=\"translate(0 11)\">7</text></g><path class=\"edge\" d=\"M 0 0 V -68.8 H -14.6667\"/><circle class=\"sym\" cx=\"0\" cy=\"0\" r=\"3\"/><text class=\"lab rgt\" transform=\"translate(3 -7.0)\">1312</text></g><g class=\"a12859 c2 node n5948 p0\" transform=\"translate(-14.6667 25.8)\"><g class=\"a5948 i1 leaf node n1 p0 sample\" transform=\"translate(-7.33333 51.6)\"><path class=\"edge\" d=\"M 0 0 V -51.6 H 7.33333\"/><rect class=\"sym\" height=\"6\" width=\"6\" x=\"-3\" y=\"-3\"/><text class=\"lab\" transform=\"translate(0 11)\">1</text></g><g class=\"a5948 i2 leaf node n2 p0 sample\" transform=\"translate(7.33333 51.6)\"><path class=\"edge\" d=\"M 0 0 V -51.6 H -7.33333\"/><rect class=\"sym\" height=\"6\" width=\"6\" x=\"-3\" y=\"-3\"/><text class=\"lab\" transform=\"translate(0 11)\">2</text></g><path class=\"edge\" d=\"M 0 0 V -25.8 H 14.6667\"/><circle class=\"sym\" cx=\"0\" cy=\"0\" r=\"3\"/><text class=\"lab lft\" transform=\"translate(-3 -7.0)\">5948</text></g><path class=\"edge\" d=\"M 0 0 V -8.6 H -38.0417\"/><circle class=\"sym\" cx=\"0\" cy=\"0\" r=\"3\"/><text class=\"lab rgt\" transform=\"translate(3 -7.0)\">12859</text></g><circle class=\"sym\" cx=\"0\" cy=\"0\" r=\"3\"/><text class=\"lab\" transform=\"translate(0 -11)\">13036</text></g></g></g><g class=\"tree t0\" transform=\"translate(206.667 0)\"><g class=\"plotbox\"><g class=\"c2 node n20618 p0 root\" transform=\"translate(99.2917 26.8)\"><g class=\"a20618 c2 node n10508 p0\" transform=\"translate(-38.0417 25.8)\"><g class=\"a10508 c2 node n5070 p0\" transform=\"translate(-26.5833 34.4)\"><g class=\"a5070 i0 leaf node n0 p0 sample\" transform=\"translate(-7.33333 34.4)\"><path class=\"edge\" d=\"M 0 0 V -34.4 H 7.33333\"/><rect class=\"sym\" height=\"6\" width=\"6\" x=\"-3\" y=\"-3\"/><text class=\"lab\" transform=\"translate(0 11)\">0</text></g><g class=\"a5070 i9 leaf node n9 p0 sample\" transform=\"translate(7.33333 34.4)\"><path class=\"edge\" d=\"M 0 0 V -34.4 H -7.33333\"/><rect class=\"sym\" height=\"6\" width=\"6\" x=\"-3\" y=\"-3\"/><text class=\"lab\" transform=\"translate(0 11)\">9</text></g><path class=\"edge\" d=\"M 0 0 V -34.4 H 26.5833\"/><circle class=\"sym\" cx=\"0\" cy=\"0\" r=\"3\"/><text class=\"lab lft\" transform=\"translate(-3 -7.0)\">5070</text></g><g class=\"a10508 c2 node n9984 p0\" transform=\"translate(26.5833 8.6)\"><g class=\"a9984 i8 leaf node n8 p0 sample\" transform=\"translate(12.8333 60.2)\"><path class=\"edge\" d=\"M 0 0 V -60.2 H -12.8333\"/><rect class=\"sym\" height=\"6\" width=\"6\" x=\"-3\" y=\"-3\"/><text class=\"lab\" transform=\"translate(0 11)\">8</text></g><g class=\"a9984 c2 node n2205 p0\" transform=\"translate(-12.8333 34.4)\"><g class=\"a2205 i4 leaf node n4 p0 sample\" transform=\"translate(11 25.8)\"><path class=\"edge\" d=\"M 0 0 V -25.8 H -11\"/><rect class=\"sym\" height=\"6\" width=\"6\" x=\"-3\" y=\"-3\"/><text class=\"lab\" transform=\"translate(0 11)\">4</text></g><g class=\"a2205 c2 node n1411 p0\" transform=\"translate(-11 8.6)\"><g class=\"a1411 i3 leaf node n3 p0 sample\" transform=\"translate(-7.33333 17.2)\"><path class=\"edge\" d=\"M 0 0 V -17.2 H 7.33333\"/><rect class=\"sym\" height=\"6\" width=\"6\" x=\"-3\" y=\"-3\"/><text class=\"lab\" transform=\"translate(0 11)\">3</text></g><g class=\"a1411 i6 leaf node n6 p0 sample\" transform=\"translate(7.33333 17.2)\"><path class=\"edge\" d=\"M 0 0 V -17.2 H -7.33333\"/><rect class=\"sym\" height=\"6\" width=\"6\" x=\"-3\" y=\"-3\"/><text class=\"lab\" transform=\"translate(0 11)\">6</text></g><path class=\"edge\" d=\"M 0 0 V -8.6 H 11\"/><circle class=\"sym\" cx=\"0\" cy=\"0\" r=\"3\"/><text class=\"lab lft\" transform=\"translate(-3 -7.0)\">1411</text></g><path class=\"edge\" d=\"M 0 0 V -34.4 H 12.8333\"/><circle class=\"sym\" cx=\"0\" cy=\"0\" r=\"3\"/><text class=\"lab lft\" transform=\"translate(-3 -7.0)\">2205</text></g><path class=\"edge\" d=\"M 0 0 V -8.6 H -26.5833\"/><circle class=\"sym\" cx=\"0\" cy=\"0\" r=\"3\"/><text class=\"lab rgt\" transform=\"translate(3 -7.0)\">9984</text></g><path class=\"edge\" d=\"M 0 0 V -25.8 H 38.0417\"/><circle class=\"sym\" cx=\"0\" cy=\"0\" r=\"3\"/><text class=\"lab lft\" transform=\"translate(-3 -7.0)\">10508</text></g><g class=\"a20618 c2 node n12859 p0\" transform=\"translate(38.0417 17.2)\"><g class=\"a12859 c2 m1 node n1312 p0 s1\" transform=\"translate(14.6667 68.8)\"><g class=\"a1312 i5 leaf node n5 p0 sample\" transform=\"translate(-7.33333 8.6)\"><path class=\"edge\" d=\"M 0 0 V -8.6 H 7.33333\"/><rect class=\"sym\" height=\"6\" width=\"6\" x=\"-3\" y=\"-3\"/><text class=\"lab\" transform=\"translate(0 11)\">5</text></g><g class=\"a1312 i7 leaf node n7 p0 sample\" transform=\"translate(7.33333 8.6)\"><path class=\"edge\" d=\"M 0 0 V -8.6 H -7.33333\"/><rect class=\"sym\" height=\"6\" width=\"6\" x=\"-3\" y=\"-3\"/><text class=\"lab\" transform=\"translate(0 11)\">7</text></g><path class=\"edge\" d=\"M 0 0 V -68.8 H -14.6667\"/><g class=\"mut m1 s1\" transform=\"translate(0 -34.4)\"><line x1=\"0\" x2=\"0\" y1=\"0\" y2=\"34.4\"/><path class=\"sym\" d=\"M -3,-3 l 6,6 M -3,3 l 6,-6\"/><text class=\"lab rgt\" transform=\"translate(5 0)\">1</text></g><circle class=\"sym\" cx=\"0\" cy=\"0\" r=\"3\"/><text class=\"lab rgt\" transform=\"translate(3 -7.0)\">1312</text></g><g class=\"a12859 c2 node n5948 p0\" transform=\"translate(-14.6667 25.8)\"><g class=\"a5948 i1 leaf m0 node n1 p0 s0 sample\" transform=\"translate(-7.33333 51.6)\"><path class=\"edge\" d=\"M 0 0 V -51.6 H 7.33333\"/><g class=\"mut m0 s0\" transform=\"translate(0 -25.8)\"><line x1=\"0\" x2=\"0\" y1=\"0\" y2=\"25.8\"/><path class=\"sym\" d=\"M -3,-3 l 6,6 M -3,3 l 6,-6\"/><text class=\"lab lft\" transform=\"translate(-5 0)\">0</text></g><rect class=\"sym\" height=\"6\" width=\"6\" x=\"-3\" y=\"-3\"/><text class=\"lab\" transform=\"translate(0 11)\">1</text></g><g class=\"a5948 i2 leaf node n2 p0 sample\" transform=\"translate(7.33333 51.6)\"><path class=\"edge\" d=\"M 0 0 V -51.6 H -7.33333\"/><rect class=\"sym\" height=\"6\" width=\"6\" x=\"-3\" y=\"-3\"/><text class=\"lab\" transform=\"translate(0 11)\">2</text></g><path class=\"edge\" d=\"M 0 0 V -25.8 H 14.6667\"/><circle class=\"sym\" cx=\"0\" cy=\"0\" r=\"3\"/><text class=\"lab lft\" transform=\"translate(-3 -7.0)\">5948</text></g><path class=\"edge\" d=\"M 0 0 V -17.2 H -38.0417\"/><circle class=\"sym\" cx=\"0\" cy=\"0\" r=\"3\"/><text class=\"lab rgt\" transform=\"translate(3 -7.0)\">12859</text></g><circle class=\"sym\" cx=\"0\" cy=\"0\" r=\"3\"/><text class=\"lab\" transform=\"translate(0 -11)\">20618</text></g></g></g><g class=\"tree t1\" transform=\"translate(393.333 0)\"><g class=\"plotbox\"><g class=\"c2 node n20618 p0 root\" transform=\"translate(97.2292 26.8)\"><g class=\"a20618 c2 node n10508 p0\" transform=\"translate(-40.1042 25.8)\"><g class=\"a10508 c2 node n9984 p0\" transform=\"translate(29.7917 8.6)\"><g class=\"a9984 i8 leaf node n8 p0 sample\" transform=\"translate(13.75 60.2)\"><path class=\"edge\" d=\"M 0 0 V -60.2 H -13.75\"/><rect class=\"sym\" height=\"6\" width=\"6\" x=\"-3\" y=\"-3\"/><text class=\"lab\" transform=\"translate(0 11)\">8</text></g><g class=\"a9984 c2 node n5609 p0\" transform=\"translate(-13.75 17.2)\"><g class=\"a5609 i9 leaf node n9 p0 sample\" transform=\"translate(12.8333 43)\"><path class=\"edge\" d=\"M 0 0 V -43 H -12.8333\"/><rect class=\"sym\" height=\"6\" width=\"6\" x=\"-3\" y=\"-3\"/><text class=\"lab\" transform=\"translate(0 11)\">9</text></g><g class=\"a5609 c2 node n2205 p0\" transform=\"translate(-12.8333 17.2)\"><g class=\"a2205 i4 leaf node n4 p0 sample\" transform=\"translate(11 25.8)\"><path class=\"edge\" d=\"M 0 0 V -25.8 H -11\"/><rect class=\"sym\" height=\"6\" width=\"6\" x=\"-3\" y=\"-3\"/><text class=\"lab\" transform=\"translate(0 11)\">4</text></g><g class=\"a2205 c2 node n1411 p0\" transform=\"translate(-11 8.6)\"><g class=\"a1411 i3 leaf node n3 p0 sample\" transform=\"translate(-7.33333 17.2)\"><path class=\"edge\" d=\"M 0 0 V -17.2 H 7.33333\"/><rect class=\"sym\" height=\"6\" width=\"6\" x=\"-3\" y=\"-3\"/><text class=\"lab\" transform=\"translate(0 11)\">3</text></g><g class=\"a1411 i6 leaf node n6 p0 sample\" transform=\"translate(7.33333 17.2)\"><path class=\"edge\" d=\"M 0 0 V -17.2 H -7.33333\"/><rect class=\"sym\" height=\"6\" width=\"6\" x=\"-3\" y=\"-3\"/><text class=\"lab\" transform=\"translate(0 11)\">6</text></g><path class=\"edge\" d=\"M 0 0 V -8.6 H 11\"/><circle class=\"sym\" cx=\"0\" cy=\"0\" r=\"3\"/><text class=\"lab lft\" transform=\"translate(-3 -7.0)\">1411</text></g><path class=\"edge\" d=\"M 0 0 V -17.2 H 12.8333\"/><circle class=\"sym\" cx=\"0\" cy=\"0\" r=\"3\"/><text class=\"lab lft\" transform=\"translate(-3 -7.0)\">2205</text></g><path class=\"edge\" d=\"M 0 0 V -17.2 H 13.75\"/><circle class=\"sym\" cx=\"0\" cy=\"0\" r=\"3\"/><text class=\"lab lft\" transform=\"translate(-3 -7.0)\">5609</text></g><path class=\"edge\" d=\"M 0 0 V -8.6 H -29.7917\"/><circle class=\"sym\" cx=\"0\" cy=\"0\" r=\"3\"/><text class=\"lab rgt\" transform=\"translate(3 -7.0)\">9984</text></g><g class=\"a10508 i0 leaf m3 node n0 p0 s3 sample\" transform=\"translate(-29.7917 68.8)\"><path class=\"edge\" d=\"M 0 0 V -68.8 H 29.7917\"/><g class=\"mut m3 s3\" transform=\"translate(0 -34.4)\"><line x1=\"0\" x2=\"0\" y1=\"0\" y2=\"34.4\"/><path class=\"sym\" d=\"M -3,-3 l 6,6 M -3,3 l 6,-6\"/><text class=\"lab lft\" transform=\"translate(-5 0)\">3</text></g><rect class=\"sym\" height=\"6\" width=\"6\" x=\"-3\" y=\"-3\"/><text class=\"lab\" transform=\"translate(0 11)\">0</text></g><path class=\"edge\" d=\"M 0 0 V -25.8 H 40.1042\"/><circle class=\"sym\" cx=\"0\" cy=\"0\" r=\"3\"/><text class=\"lab lft\" transform=\"translate(-3 -7.0)\">10508</text></g><g class=\"a20618 c2 node n12859 p0\" transform=\"translate(40.1042 17.2)\"><g class=\"a12859 c2 node n1312 p0\" transform=\"translate(14.6667 68.8)\"><g class=\"a1312 i5 leaf node n5 p0 sample\" transform=\"translate(-7.33333 8.6)\"><path class=\"edge\" d=\"M 0 0 V -8.6 H 7.33333\"/><rect class=\"sym\" height=\"6\" width=\"6\" x=\"-3\" y=\"-3\"/><text class=\"lab\" transform=\"translate(0 11)\">5</text></g><g class=\"a1312 i7 leaf node n7 p0 sample\" transform=\"translate(7.33333 8.6)\"><path class=\"edge\" d=\"M 0 0 V -8.6 H -7.33333\"/><rect class=\"sym\" height=\"6\" width=\"6\" x=\"-3\" y=\"-3\"/><text class=\"lab\" transform=\"translate(0 11)\">7</text></g><path class=\"edge\" d=\"M 0 0 V -68.8 H -14.6667\"/><circle class=\"sym\" cx=\"0\" cy=\"0\" r=\"3\"/><text class=\"lab rgt\" transform=\"translate(3 -7.0)\">1312</text></g><g class=\"a12859 c2 m2 node n5948 p0 s2\" transform=\"translate(-14.6667 25.8)\"><g class=\"a5948 i1 leaf node n1 p0 sample\" transform=\"translate(-7.33333 51.6)\"><path class=\"edge\" d=\"M 0 0 V -51.6 H 7.33333\"/><rect class=\"sym\" height=\"6\" width=\"6\" x=\"-3\" y=\"-3\"/><text class=\"lab\" transform=\"translate(0 11)\">1</text></g><g class=\"a5948 i2 leaf node n2 p0 sample\" transform=\"translate(7.33333 51.6)\"><path class=\"edge\" d=\"M 0 0 V -51.6 H -7.33333\"/><rect class=\"sym\" height=\"6\" width=\"6\" x=\"-3\" y=\"-3\"/><text class=\"lab\" transform=\"translate(0 11)\">2</text></g><path class=\"edge\" d=\"M 0 0 V -25.8 H 14.6667\"/><g class=\"mut m2 s2\" transform=\"translate(0 -12.9)\"><line x1=\"0\" x2=\"0\" y1=\"0\" y2=\"12.9\"/><path class=\"sym\" d=\"M -3,-3 l 6,6 M -3,3 l 6,-6\"/><text class=\"lab lft\" transform=\"translate(-5 0)\">2</text></g><circle class=\"sym\" cx=\"0\" cy=\"0\" r=\"3\"/><text class=\"lab lft\" transform=\"translate(-3 -7.0)\">5948</text></g><path class=\"edge\" d=\"M 0 0 V -17.2 H -40.1042\"/><circle class=\"sym\" cx=\"0\" cy=\"0\" r=\"3\"/><text class=\"lab rgt\" transform=\"translate(3 -7.0)\">12859</text></g><circle class=\"sym\" cx=\"0\" cy=\"0\" r=\"3\"/><text class=\"lab\" transform=\"translate(0 -11)\">20618</text></g></g></g></g></g></svg>",
      "text/plain": [
       "<IPython.core.display.SVG object>"
      ]
     },
     "execution_count": 10,
     "metadata": {},
     "output_type": "execute_result"
    }
   ],
   "source": [
    "SVG(mts_neut.simplify(range(10)).draw_svg(time_scale=\"rank\", x_lim=(0, 5000)))\n"
   ]
  },
  {
   "cell_type": "code",
   "execution_count": 16,
   "metadata": {},
   "outputs": [],
   "source": [
    "#Treeseq to Nexus/Newick Conversion\n",
    "neut_nex = mts_neut.simplify(range(10)).as_nexus(precision=3, include_alignments=False)\n",
    "sweep_nex = mts_sweep.simplify(range(10)).as_nexus(precision=3, include_alignments=False)\n",
    "with open(\"neut_simple.nex\", \"w\") as ns:\n",
    "    ns.writelines(neut_nex)\n",
    "\n",
    "with open(\"sweep_simple.nex\", \"w\") as ss:\n",
    "    ss.writelines(sweep_nex)"
   ]
  },
  {
   "cell_type": "code",
   "execution_count": null,
   "metadata": {},
   "outputs": [],
   "source": [
    "#Read in trees to Dendropy\n",
    "#TODO Scale with yield_from_files\n",
    "taxa = dendropy.TaxonNamespace()\n",
    "\n",
    "neut_dendro = dendropy.TreeList.get(path=\"neut_simple.nex\", schema=\"nexus\", taxon_namespace=taxa)\n",
    "sweep_dendro = dendropy.TreeList.get(path=\"sweep_simple.nex\", schema=\"nexus\", taxon_namespace=taxa)"
   ]
  },
  {
   "cell_type": "code",
   "execution_count": null,
   "metadata": {},
   "outputs": [],
   "source": [
    "#Iterate through treelist, calc pairwise RFs\n",
    "neut_rfs = []\n",
    "for t_idx in range(len(neut_dendro)-1):\n",
    "    neut_rfs.append(symmetric_difference(neut_dendro[t_idx], neut_dendro[t_idx+1]))\n",
    "\n",
    "#Iterate through treelist, calc pairwise RFs\n",
    "sweep_rfs = []\n",
    "for t_idx in range(len(sweep_dendro)-1):\n",
    "    sweep_rfs.append(symmetric_difference(sweep_dendro[t_idx], sweep_dendro[t_idx+1]))"
   ]
  },
  {
   "cell_type": "code",
   "execution_count": 26,
   "metadata": {},
   "outputs": [
    {
     "name": "stdout",
     "output_type": "stream",
     "text": [
      "Neutral\n",
      "                  0\n",
      "count  44972.000000\n",
      "mean       2.189496\n",
      "std        2.700257\n",
      "min        0.000000\n",
      "25%        0.000000\n",
      "50%        2.000000\n",
      "75%        4.000000\n",
      "max       16.000000\n",
      "\n",
      "Sweep\n",
      "                  0\n",
      "count  27910.000000\n",
      "mean       1.269151\n",
      "std        1.835940\n",
      "min        0.000000\n",
      "25%        0.000000\n",
      "50%        0.000000\n",
      "75%        2.000000\n",
      "max       12.000000\n"
     ]
    }
   ],
   "source": [
    "#RF Dist Stats\n",
    "neut_arr = np.array(neut_rfs)\n",
    "sweep_arr = np.array(sweep_rfs)\n",
    "\n",
    "print(\"Neutral\")\n",
    "print(pd.DataFrame(neut_arr).describe())\n",
    "\n",
    "print(\"\\nSweep\")\n",
    "print(pd.DataFrame(sweep_arr).describe())"
   ]
  },
  {
   "cell_type": "code",
   "execution_count": 57,
   "metadata": {},
   "outputs": [
    {
     "data": {
      "text/plain": [
       "<AxesSubplot:title={'center':'Sweep RF Dist. vs Location'}>"
      ]
     },
     "execution_count": 57,
     "metadata": {},
     "output_type": "execute_result"
    },
    {
     "data": {
      "image/png": "[encoded data removed]",
      "text/plain": [
       "<Figure size 432x288 with 1 Axes>"
      ]
     },
     "metadata": {
      "needs_background": "light"
     },
     "output_type": "display_data"
    },
    {
     "data": {
      "image/png": "[encoded data removed]",
      "text/plain": [
       "<Figure size 432x288 with 1 Axes>"
      ]
     },
     "metadata": {
      "needs_background": "light"
     },
     "output_type": "display_data"
    }
   ],
   "source": [
    "#Plot location-based RF\n",
    "pd.DataFrame(neut_arr).plot(kind=\"line\", title=\"Neutral RF Dist. vs Location\")\n",
    "pd.DataFrame(sweep_arr).plot(kind=\"line\", title=\"Sweep RF Dist. vs Location\")\n"
   ]
  },
  {
   "cell_type": "code",
   "execution_count": null,
   "metadata": {},
   "outputs": [],
   "source": [
    "#Graph Nearest Neighbor(?)\n",
    "def gnn(tree, k=3):\n",
    "    \"\"\"\n",
    "    Graph Nearest Neighbor\n",
    "    Pseudocode:\n",
    "    - For range(1,k):\n",
    "        - For each terminal node (t_n):\n",
    "            - For each parent node (p_n) coalescent moves 1 to k: \n",
    "                - Get all descendants of p_n in dictionary    \n",
    "    \"\"\"\n",
    "    raise NotImplementedError"
   ]
  }
 ],
 "metadata": {
  "interpreter": {
   "hash": "5aa5d9036d79bd394b5f7acf165637759ca1c21ce158516ed05bfccc1f22f15b"
  },
  "kernelspec": {
   "display_name": "Python 3.10.4 ('treeseqs')",
   "language": "python",
   "name": "python3"
  },
  "language_info": {
   "codemirror_mode": {
    "name": "ipython",
    "version": 3
   },
   "file_extension": ".py",
   "mimetype": "text/x-python",
   "name": "python",
   "nbconvert_exporter": "python",
   "pygments_lexer": "ipython3",
   "version": "3.10.4"
  },
  "orig_nbformat": 4
 },
 "nbformat": 4,
 "nbformat_minor": 2
}
